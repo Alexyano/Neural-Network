{
 "cells": [
  {
   "cell_type": "markdown",
   "metadata": {},
   "source": [
    "<h1><center> Perceptron </center></h1>\n"
   ]
  },
  {
   "cell_type": "markdown",
   "metadata": {},
   "source": [
    "<img src=\"neuron.png\">"
   ]
  },
  {
   "cell_type": "code",
   "execution_count": 54,
   "metadata": {},
   "outputs": [],
   "source": [
    "import math\n",
    "import random"
   ]
  },
  {
   "cell_type": "code",
   "execution_count": 55,
   "metadata": {},
   "outputs": [],
   "source": [
    "class Perceptron():\n",
    "\tdef __init__(self):\n",
    "\t\trandom.seed(1)\n",
    "\n",
    "\t\tself.weights = [random.uniform(-1, 1), random.uniform(-1, 1), random.uniform(-1, 1)]\n",
    "\n",
    "\tdef think(self, neuron_inputs):\n",
    "\t\tsum_of_weighted_inputs = self.__sum_of_weighted_inputs(neuron_inputs)\n",
    "\t\tneuron_output = self.__sigmoid(sum_of_weighted_inputs)\n",
    "\t\treturn neuron_output\n",
    "\n",
    "\t# Adjusting the weights of the perceptron in order to minimise the error from the training set\n",
    "\tdef train(self, training_set_examples, number_of_iterations):\n",
    "\t\tfor iteration in range(number_of_iterations):\n",
    "\t\t\tfor training_set_example in training_set_examples:\n",
    "\n",
    "\t\t\t\t# Predicting the output based on the training set example inputs\n",
    "\t\t\t\tpredicted_output = self.think(training_set_example[\"inputs\"])\n",
    "\n",
    "\t\t\t\t# Calculating the error as the difference between the desired output and the predicted output\n",
    "\t\t\t\terror_in_output = training_set_example[\"output\"] - predicted_output\n",
    "\n",
    "\t\t\t\t# Iterating through the weights and adjust each one\n",
    "\t\t\t\tfor index in range(len(self.weights)):\n",
    "\n",
    "\t\t\t\t\t# Getting the neuron's input associated with this weight\n",
    "\t\t\t\t\tneuron_input = training_set_example[\"inputs\"][index]\n",
    "\n",
    "\t\t\t\t\t# Calculating how much to adjust the weights by using the delta rule (gradient descent)\n",
    "\t\t\t\t\tadjust_weight = neuron_input * error_in_output * self.__sigmoid_gradient(predicted_output)\n",
    "\n",
    "\t\t\t\t\t# Adjusting the weight\n",
    "\t\t\t\t\tself.weights[index] += adjust_weight\n",
    "\n",
    "\n",
    "\t# Calculating the sigmoid (the activation function)\n",
    "\tdef __sigmoid(self, sum_of_weighted_inputs):\n",
    "\t\treturn 1 / (1 + math.exp(-sum_of_weighted_inputs))\n",
    "\n",
    "\t# Calculating the gradient of the sigmoid using its own output\t\n",
    "\tdef __sigmoid_gradient(self, neuron_output):\n",
    "\t\treturn neuron_output * (1 - neuron_output)\n",
    "\n",
    "\t# Multiplying each input by its own weight, and then sum the total\n",
    "\tdef __sum_of_weighted_inputs(self, neuron_inputs):\n",
    "\t\tsum_of_weighted_inputs = 0\n",
    "\t\tfor index, neuron_input in enumerate(neuron_inputs):\n",
    "\t\t\tsum_of_weighted_inputs += self.weights[index] * neuron_input\n",
    "\t\treturn sum_of_weighted_inputs\n"
   ]
  },
  {
   "cell_type": "markdown",
   "metadata": {},
   "source": [
    "<h2><center> The sigmoid function </center></h2>"
   ]
  },
  {
   "cell_type": "markdown",
   "metadata": {},
   "source": [
    "$$\\sigma(x) = \\frac{1}{1+e^{-x}}$$"
   ]
  },
  {
   "cell_type": "code",
   "execution_count": 56,
   "metadata": {},
   "outputs": [],
   "source": [
    "neural_network = Perceptron()"
   ]
  },
  {
   "cell_type": "code",
   "execution_count": 57,
   "metadata": {},
   "outputs": [
    {
     "name": "stdout",
     "output_type": "stream",
     "text": [
      "Random starting weights: [-0.7312715117751976, 0.6948674738744653, 0.5275492379532281]\n"
     ]
    }
   ],
   "source": [
    "print(\"Random starting weights: \" + str(neural_network.weights))"
   ]
  },
  {
   "cell_type": "code",
   "execution_count": 58,
   "metadata": {},
   "outputs": [],
   "source": [
    "training_set_examples = [{\"inputs\": [0, 0, 1], \"output\": 0},\n",
    "{\"inputs\": [1, 1, 1], \"output\": 1},\n",
    "{\"inputs\": [1, 0, 1], \"output\": 1},\n",
    "{\"inputs\": [0, 1, 1], \"output\": 0}]"
   ]
  },
  {
   "cell_type": "code",
   "execution_count": 59,
   "metadata": {},
   "outputs": [],
   "source": [
    "neural_network.train(training_set_examples, number_of_iterations=10000)"
   ]
  },
  {
   "cell_type": "code",
   "execution_count": 60,
   "metadata": {},
   "outputs": [
    {
     "name": "stdout",
     "output_type": "stream",
     "text": [
      "New weights after training: [9.672881904304742, -0.20818131327443068, -4.629370228924396]\n"
     ]
    }
   ],
   "source": [
    "print(\"New weights after training: \" + str(neural_network.weights))"
   ]
  },
  {
   "cell_type": "markdown",
   "metadata": {},
   "source": [
    "Predicting new inputs.\n"
   ]
  },
  {
   "cell_type": "code",
   "execution_count": 61,
   "metadata": {},
   "outputs": [],
   "source": [
    "new_input = [0, 1, 0]\n",
    "prediction = neural_network.think(new_input)"
   ]
  },
  {
   "cell_type": "code",
   "execution_count": 62,
   "metadata": {},
   "outputs": [
    {
     "name": "stdout",
     "output_type": "stream",
     "text": [
      "Prediction for the new input [0, 1, 0] is:  0\n"
     ]
    }
   ],
   "source": [
    "print(\"Prediction for the new input {} is:  \".format(new_input) + str(1 if prediction > 0.5 else 0))"
   ]
  },
  {
   "cell_type": "markdown",
   "metadata": {},
   "source": [
    "## Acknowledgement"
   ]
  },
  {
   "cell_type": "markdown",
   "metadata": {},
   "source": [
    "I coded this neuron network as a part of the course taken with Milo Spencer-Harper on Udemy in which he gives a brief overview of how to build a simple neural network. Now, because of its simplicity, I decided to simply call it a perceptron. "
   ]
  }
 ],
 "metadata": {
  "kernelspec": {
   "display_name": "Python 3",
   "language": "python",
   "name": "python3"
  },
  "language_info": {
   "codemirror_mode": {
    "name": "ipython",
    "version": 3
   },
   "file_extension": ".py",
   "mimetype": "text/x-python",
   "name": "python",
   "nbconvert_exporter": "python",
   "pygments_lexer": "ipython3",
   "version": "3.8.3"
  }
 },
 "nbformat": 4,
 "nbformat_minor": 4
}
